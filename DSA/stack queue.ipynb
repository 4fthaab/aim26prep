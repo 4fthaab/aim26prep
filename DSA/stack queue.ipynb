{
 "cells": [
  {
   "cell_type": "code",
   "execution_count": 7,
   "id": "95578ac1",
   "metadata": {},
   "outputs": [
    {
     "name": "stdout",
     "output_type": "stream",
     "text": [
      "[10, 15, 20]\n",
      "20\n"
     ]
    }
   ],
   "source": [
    "# stack\n",
    "stack = []\n",
    "stack.append(10)\n",
    "stack.append(15)\n",
    "stack.append(20)\n",
    "print(stack)\n",
    "print(stack.pop())"
   ]
  },
  {
   "cell_type": "code",
   "execution_count": null,
   "id": "fbe15628",
   "metadata": {},
   "outputs": [
    {
     "name": "stdout",
     "output_type": "stream",
     "text": [
      "deque([10, 15, 20])\n",
      "10\n"
     ]
    }
   ],
   "source": [
    "from collections import deque\n",
    "q=deque()\n",
    "q.append(10)\n",
    "q.append(15)\n",
    "q.append(20)\n",
    "print(q)\n",
    "print(q.popleft())"
   ]
  },
  {
   "cell_type": "code",
   "execution_count": null,
   "id": "aeb049e4",
   "metadata": {},
   "outputs": [],
   "source": [
    "# You're given a string s containing only (), {}, and [].\n",
    "# You need to determine if all brackets are closed correctly and in order."
   ]
  },
  {
   "cell_type": "code",
   "execution_count": 15,
   "id": "fdf187f0",
   "metadata": {},
   "outputs": [],
   "source": [
    "class Solution:\n",
    "    def isValid(self, s: str) -> bool:\n",
    "        stack = []\n",
    "        mapping = {\")\": \"(\", \"}\": \"{\", \"]\": \"[\"}\n",
    "        \n",
    "        for char in s:\n",
    "            if char in mapping.values():  # opening bracket\n",
    "                stack.append(char)\n",
    "            elif char in mapping:         # closing bracket\n",
    "                if not stack or mapping[char] != stack.pop():\n",
    "                    return False\n",
    "            else:\n",
    "                # invalid character (not expected by the problem, but just in case)\n",
    "                return False\n",
    "        \n",
    "        return not stack  # stack should be empty if all matched"
   ]
  },
  {
   "cell_type": "code",
   "execution_count": null,
   "id": "e63b4e92",
   "metadata": {},
   "outputs": [],
   "source": [
    "# Implement Queue using stack"
   ]
  },
  {
   "cell_type": "code",
   "execution_count": 1,
   "id": "955db899",
   "metadata": {},
   "outputs": [],
   "source": [
    "class MyQueue:\n",
    "\n",
    "    def __init__(self):\n",
    "        self.stackin = []\n",
    "        self.stackout = []\n",
    "\n",
    "    def push(self, x: int) -> None:\n",
    "        self.stackin.append(x)\n",
    "\n",
    "    def pop(self) -> int:\n",
    "        if not self.stackout:\n",
    "            while self.stackin:\n",
    "                self.stackout.append(self.stackin.pop())\n",
    "        return self.stackout.pop()\n",
    "\n",
    "    def peek(self) -> int:\n",
    "        if not self.stackout:\n",
    "            while self.stackin:\n",
    "                self.stackout.append(self.stackin.pop())\n",
    "        return self.stackout[-1]\n",
    "\n",
    "    def empty(self) -> bool:\n",
    "        return not self.stackin and not self.stackout"
   ]
  },
  {
   "cell_type": "code",
   "execution_count": 7,
   "id": "488b77d7",
   "metadata": {},
   "outputs": [
    {
     "name": "stdout",
     "output_type": "stream",
     "text": [
      "10\n",
      "after popping :  in: [] | out: [30, 20]\n",
      "top :  20\n",
      "is empty? :  False\n"
     ]
    }
   ],
   "source": [
    "q = MyQueue()\n",
    "q.push(10)\n",
    "q.push(20)\n",
    "q.push(30)\n",
    "print(q.pop())\n",
    "print(\"after popping : \", \"in:\", q.stackin, \"| out:\", q.stackout)\n",
    "print(\"top : \", q.peek())\n",
    "print(\"is empty? : \", q.empty())"
   ]
  }
 ],
 "metadata": {
  "kernelspec": {
   "display_name": "Python 3",
   "language": "python",
   "name": "python3"
  },
  "language_info": {
   "codemirror_mode": {
    "name": "ipython",
    "version": 3
   },
   "file_extension": ".py",
   "mimetype": "text/x-python",
   "name": "python",
   "nbconvert_exporter": "python",
   "pygments_lexer": "ipython3",
   "version": "3.13.1"
  }
 },
 "nbformat": 4,
 "nbformat_minor": 5
}
