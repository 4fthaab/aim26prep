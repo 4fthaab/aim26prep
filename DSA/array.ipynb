{
 "cells": [
  {
   "cell_type": "code",
   "execution_count": 1,
   "id": "9a48520c",
   "metadata": {},
   "outputs": [],
   "source": [
    "# Write a program that takes a list of integers and prints the maximum and minimum values in the list without using built-in functions like max() or min()."
   ]
  },
  {
   "cell_type": "code",
   "execution_count": 4,
   "id": "a358a6e8",
   "metadata": {},
   "outputs": [
    {
     "name": "stdout",
     "output_type": "stream",
     "text": [
      "The array is :  [12, 3, 30, 45, 31]\n",
      "Min =  3  Max =  45\n"
     ]
    }
   ],
   "source": [
    "arr=[]\n",
    "len=int(input(\"Enter the nunber of array elements : \"))\n",
    "for i in range(len):\n",
    "    a=int(input())\n",
    "    arr.append(a)\n",
    "min=arr[0]\n",
    "max=arr[0]\n",
    "for i in range(1,len):\n",
    "    if arr[i]<min:\n",
    "        min=arr[i]\n",
    "    elif arr[i]>max:\n",
    "        max=arr[i]\n",
    "print(\"The array is : \",arr)\n",
    "print(\"Min = \",min,\" Max = \",max)"
   ]
  },
  {
   "cell_type": "code",
   "execution_count": null,
   "id": "a79b0017",
   "metadata": {},
   "outputs": [],
   "source": [
    "#Write a program to reverse an array in-place (without using extra list or built-in reverse() function)."
   ]
  },
  {
   "cell_type": "code",
   "execution_count": null,
   "id": "275f44a4",
   "metadata": {},
   "outputs": [
    {
     "name": "stdout",
     "output_type": "stream",
     "text": [
      "Array is :  [1, 6, 3, 9]\n",
      "Reversed Array is :  [9, 3, 6, 1]\n"
     ]
    }
   ],
   "source": [
    "arr=[]\n",
    "len=int(input(\"Enter the nunber of array elements : \"))\n",
    "print(\"Enter the elements of the array : \")\n",
    "for i in range(0,len):\n",
    "    a=int(input())\n",
    "    arr.append(a)\n",
    "print(\"Array is : \", arr)\n",
    "for i in range(0,len//2):\n",
    "    arr[i], arr[len-i-1] = arr[len-i-1],arr[i]\n",
    "    \n",
    "print(\"Reversed Array is : \", arr)"
   ]
  }
 ],
 "metadata": {
  "kernelspec": {
   "display_name": "Python 3",
   "language": "python",
   "name": "python3"
  },
  "language_info": {
   "codemirror_mode": {
    "name": "ipython",
    "version": 3
   },
   "file_extension": ".py",
   "mimetype": "text/x-python",
   "name": "python",
   "nbconvert_exporter": "python",
   "pygments_lexer": "ipython3",
   "version": "3.13.1"
  }
 },
 "nbformat": 4,
 "nbformat_minor": 5
}
