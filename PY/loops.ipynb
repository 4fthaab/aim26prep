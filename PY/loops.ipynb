{
 "cells": [
  {
   "cell_type": "code",
   "execution_count": null,
   "id": "fec76540",
   "metadata": {},
   "outputs": [],
   "source": [
    "#Write a Python program to print the following pattern for a given number n \n",
    "# *\n",
    "# * *\n",
    "# * * *\n",
    "# * * * *\n",
    "# * * * * *"
   ]
  },
  {
   "cell_type": "code",
   "execution_count": 3,
   "id": "9e893555",
   "metadata": {},
   "outputs": [
    {
     "name": "stdout",
     "output_type": "stream",
     "text": [
      "* \n",
      "* * \n",
      "* * * \n",
      "* * * * \n",
      "* * * * * \n"
     ]
    }
   ],
   "source": [
    "for i in range (1,6):\n",
    " for j in range (1,i+1):\n",
    "   print(\"*\", end=\" \")\n",
    " print()  "
   ]
  },
  {
   "cell_type": "code",
   "execution_count": 4,
   "id": "2c21112a",
   "metadata": {},
   "outputs": [],
   "source": [
    "#Write a Python program to find the sum of digits of a given number"
   ]
  },
  {
   "cell_type": "code",
   "execution_count": 6,
   "id": "cf84ec32",
   "metadata": {},
   "outputs": [
    {
     "name": "stdout",
     "output_type": "stream",
     "text": [
      "Number Entered is : 3478\n",
      "Sum of digits : 22\n"
     ]
    }
   ],
   "source": [
    "n=int(input(\"Enter a number: \"))\n",
    "print(\"Number Entered is :\", n)\n",
    "sum=0\n",
    "while(n>0):\n",
    "    rem=n%10\n",
    "    n=n//10\n",
    "    sum+=rem\n",
    "print(\"Sum of digits : \"+str(sum))   "
   ]
  },
  {
   "cell_type": "code",
   "execution_count": 7,
   "id": "f23dcd15",
   "metadata": {},
   "outputs": [],
   "source": [
    "# Write a Python program that takes a number n as input and prints the multiplication table for that number from 1 to 10."
   ]
  },
  {
   "cell_type": "code",
   "execution_count": 11,
   "id": "d5498002",
   "metadata": {},
   "outputs": [
    {
     "name": "stdout",
     "output_type": "stream",
     "text": [
      "Multiplcation Table of 9\n",
      "9 * 1 = 9\n",
      "9 * 2 = 18\n",
      "9 * 3 = 27\n",
      "9 * 4 = 36\n",
      "9 * 5 = 45\n",
      "9 * 6 = 54\n",
      "9 * 7 = 63\n",
      "9 * 8 = 72\n",
      "9 * 9 = 81\n",
      "9 * 10 = 90\n"
     ]
    }
   ],
   "source": [
    "n=int(input(\"Enter a number: \"))\n",
    "print(f\"Multiplcation Table of {n}\")\n",
    "for i in range (1,11):\n",
    "    print(n,\"*\",i,\"=\",(i*n))"
   ]
  },
  {
   "cell_type": "code",
   "execution_count": null,
   "id": "1e152cd9",
   "metadata": {},
   "outputs": [],
   "source": [
    "# Write a Python program that prints all even numbers between 1 and 50 (inclusive) using a if loop and a step method"
   ]
  },
  {
   "cell_type": "code",
   "execution_count": 12,
   "id": "c08ec6e0",
   "metadata": {},
   "outputs": [
    {
     "name": "stdout",
     "output_type": "stream",
     "text": [
      "2 4 6 8 10 12 14 16 18 20 22 24 26 28 30 32 34 36 38 40 42 44 46 48 50 \n",
      "2 4 6 8 10 12 14 16 18 20 22 24 26 28 30 32 34 36 38 40 42 44 46 48 50 "
     ]
    }
   ],
   "source": [
    "\n",
    "for i in range(1,51):\n",
    "    if i%2==0:\n",
    "        print(i, end=\" \")\n",
    "print()\n",
    "for i in range(2,51,2):\n",
    "    print(i, end=\" \")"
   ]
  },
  {
   "cell_type": "code",
   "execution_count": null,
   "id": "1fafd85c",
   "metadata": {},
   "outputs": [],
   "source": [
    "# Write a Python program to calculate the factorial of a given number n using a loop."
   ]
  },
  {
   "cell_type": "code",
   "execution_count": 14,
   "id": "5f138585",
   "metadata": {},
   "outputs": [
    {
     "name": "stdout",
     "output_type": "stream",
     "text": [
      "Factorial =  120\n"
     ]
    }
   ],
   "source": [
    "num=int(input(\"Enter a number to calculate Factorial: \"))\n",
    "fact=1\n",
    "if num==0 or num==1:\n",
    "    print(\"Factorial = \", fact)\n",
    "else:\n",
    "    for i in range(1,num+1):\n",
    "        fact*=i\n",
    "    print(\"Factorial = \",fact)    "
   ]
  }
 ],
 "metadata": {
  "kernelspec": {
   "display_name": "Python 3",
   "language": "python",
   "name": "python3"
  },
  "language_info": {
   "codemirror_mode": {
    "name": "ipython",
    "version": 3
   },
   "file_extension": ".py",
   "mimetype": "text/x-python",
   "name": "python",
   "nbconvert_exporter": "python",
   "pygments_lexer": "ipython3",
   "version": "3.13.1"
  }
 },
 "nbformat": 4,
 "nbformat_minor": 5
}
