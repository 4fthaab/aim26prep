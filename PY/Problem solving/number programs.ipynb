{
 "cells": [
  {
   "cell_type": "code",
   "execution_count": 2,
   "id": "f7a9ed44",
   "metadata": {},
   "outputs": [],
   "source": [
    "#  Problem: Check if an integer is a palindrome\n",
    "# Return True if the number reads the same backward as forward.\n",
    "\n",
    "# ✅ Constraints:\n",
    "# No need to handle floats.\n",
    "\n",
    "# Negative numbers are not palindromes (because of the - sign).\n",
    "\n",
    "# Optional: Solve without converting to a string"
   ]
  },
  {
   "cell_type": "code",
   "execution_count": 7,
   "id": "e76dad1f",
   "metadata": {},
   "outputs": [
    {
     "name": "stdout",
     "output_type": "stream",
     "text": [
      "True\n"
     ]
    }
   ],
   "source": [
    "def check_palindrome(num):\n",
    "    rev=0\n",
    "    tnum=num\n",
    "    while(tnum>0):\n",
    "        rem=tnum%10\n",
    "        rev=rev*10+rem\n",
    "        tnum//=10\n",
    "    if rev==num:\n",
    "        return True\n",
    "    else:\n",
    "        return False\n",
    "number = int(input(\"Enter a number to check whether it is palindrome or not : \"))\n",
    "print(check_palindrome(number))"
   ]
  },
  {
   "cell_type": "code",
   "execution_count": null,
   "id": "2b95a079",
   "metadata": {},
   "outputs": [],
   "source": [
    "# Given an integer n, return a list of strings from 1 to n with the following rules:\n",
    "\n",
    "# For multiples of 3 → \"Fizz\"\n",
    "# For multiples of 5 → \"Buzz\"\n",
    "# For multiples of both 3 and 5 → \"FizzBuzz\"\n",
    "# Otherwise → the number as a string"
   ]
  },
  {
   "cell_type": "code",
   "execution_count": null,
   "id": "9b3cbd49",
   "metadata": {},
   "outputs": [
    {
     "name": "stdout",
     "output_type": "stream",
     "text": [
      "['1', '2', 'Fizz', '4', 'Buzz']\n"
     ]
    }
   ],
   "source": [
    "def fizz_buzz(n):\n",
    "    answer=[]\n",
    "    for i in range (1,n+1):\n",
    "        if i%3==0 and i%5==0:\n",
    "            answer.append(\"FizzBuzz\")\n",
    "        elif i%5==0:\n",
    "            answer.append(\"Buzz\")\n",
    "        elif i%3==0:\n",
    "            answer.append(\"Fizz\")\n",
    "        else:\n",
    "            answer.append(str(i))\n",
    "    print(answer)\n",
    "n=int(input(\"Enter a number to check FizzBuzz : \"))\n",
    "fizz_buzz(n)"
   ]
  },
  {
   "cell_type": "code",
   "execution_count": null,
   "id": "f0639fc4",
   "metadata": {},
   "outputs": [],
   "source": [
    "# RECURSION"
   ]
  },
  {
   "cell_type": "code",
   "execution_count": null,
   "id": "5facac71",
   "metadata": {},
   "outputs": [],
   "source": [
    "# Write a recursive function to return the n-th Fibonacci number, where:\n",
    "# F(0) = 0\n",
    "# F(1) = 1\n",
    "# F(n) = F(n-1) + F(n-2) for n > 1"
   ]
  },
  {
   "cell_type": "code",
   "execution_count": 15,
   "id": "8525211b",
   "metadata": {},
   "outputs": [
    {
     "data": {
      "text/plain": [
       "13"
      ]
     },
     "execution_count": 15,
     "metadata": {},
     "output_type": "execute_result"
    }
   ],
   "source": [
    "def fib(n):\n",
    "    if n==0:\n",
    "        return 0\n",
    "    elif n==1:\n",
    "        return 1\n",
    "    else:\n",
    "        return fib(n-1)+fib(n-2)\n",
    "n=int(input(\"Enter a number : \"))\n",
    "fib(n)"
   ]
  },
  {
   "cell_type": "code",
   "execution_count": null,
   "id": "3959dbdd",
   "metadata": {},
   "outputs": [],
   "source": [
    "# LIST COMPREHENSION"
   ]
  },
  {
   "cell_type": "code",
   "execution_count": null,
   "id": "95450254",
   "metadata": {},
   "outputs": [
    {
     "name": "stdout",
     "output_type": "stream",
     "text": [
      "[1, 27, 125, 343, 729, 1331, 2197, 3375]\n",
      "[15, 30, 45, 60, 75, 90]\n",
      "\n"
     ]
    }
   ],
   "source": [
    "# Cubes of odd numbers from 1 to 15\n",
    "cubes=[x**3 for x in range(1,16) if x%2!=0]\n",
    "print(cubes)"
   ]
  },
  {
   "cell_type": "code",
   "execution_count": 7,
   "id": "9fd78bb4",
   "metadata": {},
   "outputs": [
    {
     "name": "stdout",
     "output_type": "stream",
     "text": [
      "[3, 6, 9, 12, 15, 18, 21, 24, 27, 30, 33, 36, 39, 42, 45, 48, 51, 54, 57, 60, 63, 66, 69, 72, 75, 78, 81, 84, 87, 90, 93, 96, 99]\n"
     ]
    }
   ],
   "source": [
    "# Numbers divisible by 3 and 5 from 1 to 100\n",
    "numbers=[n for n in range (1,101) if n%3 == 0]\n",
    "print(numbers)"
   ]
  },
  {
   "cell_type": "code",
   "execution_count": 15,
   "id": "c72366ed",
   "metadata": {},
   "outputs": [
    {
     "name": "stdout",
     "output_type": "stream",
     "text": [
      "fthb\n"
     ]
    }
   ],
   "source": [
    "# Characters in a string except vowels\n",
    "def remove_vowels(string1):\n",
    "    vowels=['a','e','i','o','u','A','E','I','O','U']\n",
    "    return \"\".join([ch for ch in string1 if ch not in vowels])\n",
    "string1=str(input(\"Enter a string : \"))\n",
    "print(remove_vowels(string1))"
   ]
  }
 ],
 "metadata": {
  "kernelspec": {
   "display_name": "Python 3",
   "language": "python",
   "name": "python3"
  },
  "language_info": {
   "codemirror_mode": {
    "name": "ipython",
    "version": 3
   },
   "file_extension": ".py",
   "mimetype": "text/x-python",
   "name": "python",
   "nbconvert_exporter": "python",
   "pygments_lexer": "ipython3",
   "version": "3.13.1"
  }
 },
 "nbformat": 4,
 "nbformat_minor": 5
}
