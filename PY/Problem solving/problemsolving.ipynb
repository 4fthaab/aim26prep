{
 "cells": [
  {
   "cell_type": "code",
   "execution_count": 2,
   "id": "f7a9ed44",
   "metadata": {},
   "outputs": [],
   "source": [
    "#  Problem: Check if an integer is a palindrome\n",
    "# Return True if the number reads the same backward as forward.\n",
    "\n",
    "# ✅ Constraints:\n",
    "# No need to handle floats.\n",
    "\n",
    "# Negative numbers are not palindromes (because of the - sign).\n",
    "\n",
    "# Optional: Solve without converting to a string"
   ]
  },
  {
   "cell_type": "code",
   "execution_count": 7,
   "id": "e76dad1f",
   "metadata": {},
   "outputs": [
    {
     "name": "stdout",
     "output_type": "stream",
     "text": [
      "True\n"
     ]
    }
   ],
   "source": [
    "def check_palindrome(num):\n",
    "    rev=0\n",
    "    tnum=num\n",
    "    while(tnum>0):\n",
    "        rem=tnum%10\n",
    "        rev=rev*10+rem\n",
    "        tnum//=10\n",
    "    if rev==num:\n",
    "        return True\n",
    "    else:\n",
    "        return False\n",
    "number = int(input(\"Enter a number to check whether it is palindrome or not : \"))\n",
    "print(check_palindrome(number))"
   ]
  },
  {
   "cell_type": "code",
   "execution_count": null,
   "id": "2b95a079",
   "metadata": {},
   "outputs": [],
   "source": [
    "# Given an integer n, return a list of strings from 1 to n with the following rules:\n",
    "\n",
    "# For multiples of 3 → \"Fizz\"\n",
    "# For multiples of 5 → \"Buzz\"\n",
    "# For multiples of both 3 and 5 → \"FizzBuzz\"\n",
    "# Otherwise → the number as a string"
   ]
  },
  {
   "cell_type": "code",
   "execution_count": null,
   "id": "9b3cbd49",
   "metadata": {},
   "outputs": [
    {
     "name": "stdout",
     "output_type": "stream",
     "text": [
      "['1', '2', 'Fizz', '4', 'Buzz']\n"
     ]
    }
   ],
   "source": [
    "def fizz_buzz(n):\n",
    "    answer=[]\n",
    "    for i in range (1,n+1):\n",
    "        if i%3==0 and i%5==0:\n",
    "            answer.append(\"FizzBuzz\")\n",
    "        elif i%5==0:\n",
    "            answer.append(\"Buzz\")\n",
    "        elif i%3==0:\n",
    "            answer.append(\"Fizz\")\n",
    "        else:\n",
    "            answer.append(str(i))\n",
    "    print(answer)\n",
    "n=int(input(\"Enter a number to check FizzBuzz : \"))\n",
    "fizz_buzz(n)"
   ]
  }
 ],
 "metadata": {
  "kernelspec": {
   "display_name": "Python 3",
   "language": "python",
   "name": "python3"
  },
  "language_info": {
   "codemirror_mode": {
    "name": "ipython",
    "version": 3
   },
   "file_extension": ".py",
   "mimetype": "text/x-python",
   "name": "python",
   "nbconvert_exporter": "python",
   "pygments_lexer": "ipython3",
   "version": "3.13.1"
  }
 },
 "nbformat": 4,
 "nbformat_minor": 5
}
